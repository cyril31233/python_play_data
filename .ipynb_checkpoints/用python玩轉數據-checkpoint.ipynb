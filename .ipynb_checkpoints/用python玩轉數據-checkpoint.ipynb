{
 "cells": [
  {
   "cell_type": "code",
   "execution_count": 1,
   "metadata": {},
   "outputs": [
    {
     "name": "stdout",
     "output_type": "stream",
     "text": [
      "126\n",
      "2\n",
      "1 1 1 1 1 1 0 "
     ]
    }
   ],
   "source": [
    "def foo(num,base):\n",
    "    if(num >= base):\n",
    "        foo(num // base, base)\n",
    "    print(num%base, end = ' ')\n",
    "\n",
    "numA = int(input())\n",
    "numB = int(input())\n",
    "foo(numA, numB)"
   ]
  },
  {
   "cell_type": "code",
   "execution_count": 4,
   "metadata": {},
   "outputs": [
    {
     "name": "stdout",
     "output_type": "stream",
     "text": [
      "人来风\n"
     ]
    }
   ],
   "source": [
    "import random\n",
    "print(random.choice(['霸道总裁风', '冷艳高贵风', '扎心了老铁风', '人来风']))"
   ]
  },
  {
   "cell_type": "code",
   "execution_count": 16,
   "metadata": {},
   "outputs": [
    {
     "data": {
      "text/plain": [
       "5"
      ]
     },
     "execution_count": 16,
     "metadata": {},
     "output_type": "execute_result"
    }
   ],
   "source": [
    "5%10"
   ]
  },
  {
   "cell_type": "code",
   "execution_count": 11,
   "metadata": {},
   "outputs": [
    {
     "name": "stdout",
     "output_type": "stream",
     "text": [
      "-345"
     ]
    }
   ],
   "source": [
    "def proc(n):\n",
    "    if (n<0):\n",
    "        print('-', end = '')\n",
    "        n = -n\n",
    "    if (n // 10):\n",
    "        proc(n // 10 )\n",
    "    print(n % 10, end = '')\n",
    "\n",
    "proc(-345)"
   ]
  },
  {
   "cell_type": "code",
   "execution_count": 15,
   "metadata": {},
   "outputs": [
    {
     "name": "stdout",
     "output_type": "stream",
     "text": [
      "4\n"
     ]
    }
   ],
   "source": [
    "sum = 0\n",
    "for i in range(1, 11):\n",
    "    if i % 2 == 0:\n",
    "        continue\n",
    "    if i % 10 == 5:\n",
    "        break\n",
    "    sum = sum + i\n",
    "print(sum)"
   ]
  },
  {
   "cell_type": "code",
   "execution_count": 18,
   "metadata": {},
   "outputs": [
    {
     "name": "stdout",
     "output_type": "stream",
     "text": [
      "10\n",
      "5\n"
     ]
    }
   ],
   "source": [
    "def f(x):\n",
    "    a = 7\n",
    "    print(a + x)\n",
    "a = 5\n",
    "f(3)\n",
    "print(a)"
   ]
  },
  {
   "cell_type": "code",
   "execution_count": 19,
   "metadata": {},
   "outputs": [
    {
     "ename": "NameError",
     "evalue": "name 'b' is not defined",
     "output_type": "error",
     "traceback": [
      "\u001b[1;31m---------------------------------------------------------------------------\u001b[0m",
      "\u001b[1;31mNameError\u001b[0m                                 Traceback (most recent call last)",
      "\u001b[1;32m<ipython-input-19-fc8d5cf24df1>\u001b[0m in \u001b[0;36m<module>\u001b[1;34m()\u001b[0m\n\u001b[0;32m      1\u001b[0m \u001b[0ma\u001b[0m \u001b[1;33m=\u001b[0m \u001b[1;36m3\u001b[0m\u001b[1;33m\u001b[0m\u001b[0m\n\u001b[1;32m----> 2\u001b[1;33m \u001b[0mprint\u001b[0m\u001b[1;33m(\u001b[0m\u001b[0ma\u001b[0m \u001b[1;33m**\u001b[0m \u001b[0mb\u001b[0m\u001b[1;33m)\u001b[0m\u001b[1;33m\u001b[0m\u001b[0m\n\u001b[0m",
      "\u001b[1;31mNameError\u001b[0m: name 'b' is not defined"
     ]
    }
   ],
   "source": [
    "a = 3\n",
    ">>> import random\n",
    ">>> random.______()print(a ** b)"
   ]
  },
  {
   "cell_type": "code",
   "execution_count": 25,
   "metadata": {},
   "outputs": [
    {
     "data": {
      "text/plain": [
       "0.2955312257076649"
      ]
     },
     "execution_count": 25,
     "metadata": {},
     "output_type": "execute_result"
    }
   ],
   "source": [
    "import random\n",
    "random.random()"
   ]
  },
  {
   "cell_type": "code",
   "execution_count": 2,
   "metadata": {},
   "outputs": [
    {
     "name": "stdout",
     "output_type": "stream",
     "text": [
      "6\n",
      "131071\n"
     ]
    }
   ],
   "source": [
    "def isprime(Number):     #1為素數  0為非素數\n",
    "    i=2\n",
    "    prime=0\n",
    "    while (i<=int(Number)**0.5):\n",
    "        if (int(Number)%i==0):\n",
    "            prime=1\n",
    "        i+=1\n",
    "    if (prime==1):\n",
    "        return 0\n",
    "    else:\n",
    "        return 1\n",
    "\n",
    "\n",
    "N_stop=int(input())\n",
    "N=0\n",
    "P=2\n",
    "while True:\n",
    "    if isprime(2**P-1)==1:\n",
    "        N+=1\n",
    "        if N==N_stop:\n",
    "            M=2**P-1\n",
    "            print(M)\n",
    "            #print(N)\n",
    "            break\n",
    "    P+=1"
   ]
  },
  {
   "cell_type": "code",
   "execution_count": 15,
   "metadata": {},
   "outputs": [
    {
     "name": "stdout",
     "output_type": "stream",
     "text": [
      "['What do you think of this saying ', 'No pain, No gain', '?']\n",
      "What do you think of this saying \n",
      "No pain, No gain\n",
      "?\n",
      "False\n",
      "No Pain, No Gain\n"
     ]
    }
   ],
   "source": [
    "aStr='What do you think of this saying \"No pain, No gain\"?'\n",
    "\n",
    "tempstr=aStr.split(\"\\\"\")\n",
    "print(tempstr)\n",
    "print(tempstr[0])\n",
    "print(tempstr[1])\n",
    "print(tempstr[2])\n",
    "\n",
    "tempstr2=aStr.split(\"\\\"\")[1]\n",
    "\n",
    "print(tempstr2.istitle())             #判斷每個英文單字是否第一個字母為大寫\n",
    "print(tempstr2.title())               #將每個英文單字第一個字母改大寫"
   ]
  },
  {
   "cell_type": "code",
   "execution_count": 22,
   "metadata": {},
   "outputs": [
    {
     "name": "stdout",
     "output_type": "stream",
     "text": [
      "['a', 'bb', 'ccc', 'dddd']\n"
     ]
    }
   ],
   "source": [
    "xs = ['dddd','a','bb','ccc']\n",
    "xs.sort(key = len)\n",
    "print(xs)"
   ]
  },
  {
   "cell_type": "code",
   "execution_count": 33,
   "metadata": {},
   "outputs": [
    {
     "name": "stdout",
     "output_type": "stream",
     "text": [
      "[5, 10, 15, 20, 25, 30, 35, 40, 45, 50, 55, 60, 65, 70, 75, 80, 85, 90, 95, 100]\n"
     ]
    }
   ],
   "source": [
    "a=(x*5 for x in range(1,21))    #生成器表達式\n",
    "print(list(a))"
   ]
  },
  {
   "cell_type": "code",
   "execution_count": 35,
   "metadata": {},
   "outputs": [
    {
     "name": "stdout",
     "output_type": "stream",
     "text": [
      "55\n"
     ]
    }
   ],
   "source": [
    "ans=int('5'*2000)%84\n",
    "print(ans)"
   ]
  },
  {
   "cell_type": "code",
   "execution_count": 37,
   "metadata": {},
   "outputs": [
    {
     "data": {
      "text/plain": [
       "[1, 4, 7, 10]"
      ]
     },
     "execution_count": 37,
     "metadata": {},
     "output_type": "execute_result"
    }
   ],
   "source": [
    "numbers = [1, 2, 3, 4, 5, 6, 7, 8, 9, 10]\n",
    "numbers[-2:]\n",
    "numbers[0::3]"
   ]
  },
  {
   "cell_type": "code",
   "execution_count": 38,
   "metadata": {},
   "outputs": [
    {
     "name": "stdout",
     "output_type": "stream",
     "text": [
      "c\n"
     ]
    }
   ],
   "source": [
    "word = 'cloud'; print(min(word))"
   ]
  },
  {
   "cell_type": "code",
   "execution_count": 42,
   "metadata": {},
   "outputs": [
    {
     "name": "stdout",
     "output_type": "stream",
     "text": [
      "0\n"
     ]
    }
   ],
   "source": [
    "print(list('Life is short, you need Python.').count('is'))"
   ]
  },
  {
   "cell_type": "code",
   "execution_count": 48,
   "metadata": {},
   "outputs": [
    {
     "name": "stdout",
     "output_type": "stream",
     "text": [
      "3.142\n"
     ]
    }
   ],
   "source": [
    "import math\n",
    "print('{:5.3f}'.format(math.pi))"
   ]
  },
  {
   "cell_type": "code",
   "execution_count": 50,
   "metadata": {},
   "outputs": [
    {
     "data": {
      "text/plain": [
       "'1+2+3+4'"
      ]
     },
     "execution_count": 50,
     "metadata": {},
     "output_type": "execute_result"
    }
   ],
   "source": [
    "seq=['1','2','3','4']\n",
    "sep='+'\n",
    "sep.join(seq)"
   ]
  },
  {
   "cell_type": "code",
   "execution_count": 51,
   "metadata": {},
   "outputs": [
    {
     "data": {
      "text/plain": [
       "False"
      ]
     },
     "execution_count": 51,
     "metadata": {},
     "output_type": "execute_result"
    }
   ],
   "source": [
    "(1,2) in zip(range(4), range(2,6))"
   ]
  },
  {
   "cell_type": "code",
   "execution_count": 52,
   "metadata": {},
   "outputs": [
    {
     "name": "stdout",
     "output_type": "stream",
     "text": [
      "False\n",
      "python.\n"
     ]
    }
   ],
   "source": [
    "my_list = [s.lower() for s in 'Life is short, you need Python.'.split(' ')]\n",
    "print('short' in my_list)\n",
    "print(my_list[5])"
   ]
  },
  {
   "cell_type": "code",
   "execution_count": 10,
   "metadata": {},
   "outputs": [
    {
     "name": "stdout",
     "output_type": "stream",
     "text": [
      "math time= 0.006130854495665972\n",
      "numpy time= 0.0010339156988834475\n"
     ]
    }
   ],
   "source": [
    "import time                   # 計算 math 跟 numpy 計算時間\n",
    "import math\n",
    "import numpy as np\n",
    "x=np.arange(0,100,0.01)\n",
    "t_m1=time.clock()\n",
    "for i,t in enumerate(x):\n",
    "    x[i]=math.pow((math.sin(t)),2)\n",
    "\n",
    "t_m2=time.clock()\n",
    "y=np.arange(0,100,0.01)\n",
    "t_n1=time.clock()\n",
    "y=np.power(np.sin(y),2)\n",
    "t_n2=time.clock()\n",
    "\n",
    "print ('math time=',t_m2-t_m1)\n",
    "print ('numpy time=',t_n2-t_n1)"
   ]
  },
  {
   "cell_type": "code",
   "execution_count": 12,
   "metadata": {},
   "outputs": [
    {
     "data": {
      "text/plain": [
       "{' ', '.', 'P', 'Y', 'd', 'e', 'h', 'n', 'o', 't', 'u', 'y'}"
      ]
     },
     "execution_count": 12,
     "metadata": {},
     "output_type": "execute_result"
    }
   ],
   "source": [
    "set('You need Python.')"
   ]
  },
  {
   "cell_type": "code",
   "execution_count": 15,
   "metadata": {},
   "outputs": [
    {
     "name": "stdout",
     "output_type": "stream",
     "text": [
      "CBA\n"
     ]
    }
   ],
   "source": [
    "dict_mark = {'Wang': 'C', 'Li': 'B', 'Ma': 'A'}\n",
    "s = ''\n",
    "for c in dict_mark.values():\n",
    "    s += c\n",
    "print (s)"
   ]
  },
  {
   "cell_type": "code",
   "execution_count": 16,
   "metadata": {},
   "outputs": [
    {
     "data": {
      "text/plain": [
       "90"
      ]
     },
     "execution_count": 16,
     "metadata": {},
     "output_type": "execute_result"
    }
   ],
   "source": [
    "dict_mark_1 = {'Wang': 98, 'Li': 87, 'Ma': 93}\n",
    "dict_mark_2 = {'Li': 90, 'Ma': 95, 'Xu': 75}\n",
    "dict_mark_1.update(dict_mark_2)\n",
    "dict_mark_1.pop('Li')"
   ]
  },
  {
   "cell_type": "code",
   "execution_count": 27,
   "metadata": {},
   "outputs": [
    {
     "name": "stdout",
     "output_type": "stream",
     "text": [
      "['青', '蓝']\n"
     ]
    }
   ],
   "source": [
    "color = {\"色彩\":[{\"暖色\":[\"红\",\"橙\",\"黄\"]},{\"冷色\":[\"青\",\"蓝\"]},{\"中性色\":[\"紫\",\"绿\",\"黑\",\"灰\",\"白\"]}]}\n",
    "x=color['色彩'][1]['冷色']\n",
    "print (x)\n"
   ]
  },
  {
   "cell_type": "code",
   "execution_count": 9,
   "metadata": {},
   "outputs": [
    {
     "data": {
      "text/plain": [
       "False"
      ]
     },
     "execution_count": 9,
     "metadata": {},
     "output_type": "execute_result"
    }
   ],
   "source": [
    "a={1,2,3,4}\n",
    "b={2,3,5,6}\n",
    "#a.union(b)==a|b\n",
    "a.issubset(b)\n",
    "#a.difference(b)==a-b\n",
    "#a.intersection(b)==a&b"
   ]
  },
  {
   "cell_type": "code",
   "execution_count": 10,
   "metadata": {},
   "outputs": [
    {
     "data": {
      "text/plain": [
       "24"
      ]
     },
     "execution_count": 10,
     "metadata": {},
     "output_type": "execute_result"
    }
   ],
   "source": [
    "import numpy as np\n",
    "a = np.array([(1, 2, 3), (4, 5, 6), (7, 8, 9)])\n",
    "a[[2]].sum()"
   ]
  },
  {
   "cell_type": "code",
   "execution_count": 12,
   "metadata": {},
   "outputs": [
    {
     "data": {
      "text/plain": [
       "True"
      ]
     },
     "execution_count": 12,
     "metadata": {},
     "output_type": "execute_result"
    }
   ],
   "source": [
    "from pandas import Series\n",
    "sa = Series(['a', 'b', 'c'], index = [0, 1, 2])\n",
    "sb = Series(['a', 'b', 'c'])\n",
    "sc = Series(['a', 'c', 'b'])\n",
    "sa.equals(sc)\n",
    "sb.equals(sa)"
   ]
  },
  {
   "cell_type": "code",
   "execution_count": 23,
   "metadata": {},
   "outputs": [
    {
     "data": {
      "text/plain": [
       "'Intellij'"
      ]
     },
     "execution_count": 23,
     "metadata": {},
     "output_type": "execute_result"
    }
   ],
   "source": [
    "from pandas import Series, DataFrame\n",
    "data = {'language': ['Java', 'PHP', 'Python', 'R', 'C#'],'year': [ 1995 ,  1995 , 1991   ,1993, 2000]}\n",
    "frame = DataFrame(data)\n",
    "frame['IDE'] = Series(['Intellij', 'Notepad', 'IPython', 'R studio', 'VS'])\n",
    "frame['IDE'][0]\n"
   ]
  },
  {
   "cell_type": "code",
   "execution_count": 22,
   "metadata": {},
   "outputs": [
    {
     "name": "stdout",
     "output_type": "stream",
     "text": [
      "Please input the name: xiaohong\n"
     ]
    },
    {
     "ename": "AttributeError",
     "evalue": "'dict' object has no attribute 'find'",
     "output_type": "error",
     "traceback": [
      "\u001b[1;31m---------------------------------------------------------------------------\u001b[0m",
      "\u001b[1;31mAttributeError\u001b[0m                            Traceback (most recent call last)",
      "\u001b[1;32m<ipython-input-22-a65957de28d3>\u001b[0m in \u001b[0;36m<module>\u001b[1;34m()\u001b[0m\n\u001b[0;32m      8\u001b[0m      \u001b[0mdict_users\u001b[0m \u001b[1;33m=\u001b[0m \u001b[1;33m{\u001b[0m\u001b[1;34m'xiaoyun'\u001b[0m\u001b[1;33m:\u001b[0m\u001b[1;36m88888\u001b[0m\u001b[1;33m,\u001b[0m\u001b[1;34m'xiaohong'\u001b[0m\u001b[1;33m:\u001b[0m\u001b[1;36m5555555\u001b[0m\u001b[1;33m,\u001b[0m\u001b[1;34m'xiaoteng'\u001b[0m\u001b[1;33m:\u001b[0m\u001b[1;36m11111\u001b[0m\u001b[1;33m,\u001b[0m\u001b[1;34m'xiaoyi'\u001b[0m\u001b[1;33m:\u001b[0m\u001b[1;36m12341234\u001b[0m\u001b[1;33m,\u001b[0m\u001b[1;34m'xiaoyang'\u001b[0m\u001b[1;33m:\u001b[0m\u001b[1;36m1212121\u001b[0m\u001b[1;33m}\u001b[0m\u001b[1;33m\u001b[0m\u001b[0m\n\u001b[0;32m      9\u001b[0m      \u001b[0mstrU\u001b[0m \u001b[1;33m=\u001b[0m  \u001b[0minput\u001b[0m\u001b[1;33m(\u001b[0m\u001b[1;34m'Please input the name: '\u001b[0m\u001b[1;33m)\u001b[0m\u001b[1;33m\u001b[0m\u001b[0m\n\u001b[1;32m---> 10\u001b[1;33m      \u001b[0mprint\u001b[0m\u001b[1;33m(\u001b[0m\u001b[0mfind_person\u001b[0m\u001b[1;33m(\u001b[0m\u001b[0mdict_users\u001b[0m\u001b[1;33m,\u001b[0m\u001b[0mstrU\u001b[0m\u001b[1;33m)\u001b[0m\u001b[1;33m)\u001b[0m\u001b[1;33m\u001b[0m\u001b[0m\n\u001b[0m",
      "\u001b[1;32m<ipython-input-22-a65957de28d3>\u001b[0m in \u001b[0;36mfind_person\u001b[1;34m(dict_users, strU)\u001b[0m\n\u001b[0;32m      1\u001b[0m \u001b[1;32mdef\u001b[0m \u001b[0mfind_person\u001b[0m\u001b[1;33m(\u001b[0m\u001b[0mdict_users\u001b[0m\u001b[1;33m,\u001b[0m \u001b[0mstrU\u001b[0m\u001b[1;33m)\u001b[0m\u001b[1;33m:\u001b[0m\u001b[1;33m\u001b[0m\u001b[0m\n\u001b[1;32m----> 2\u001b[1;33m       \u001b[1;32mif\u001b[0m \u001b[0mdict_users\u001b[0m\u001b[1;33m.\u001b[0m\u001b[0mfind\u001b[0m\u001b[1;33m(\u001b[0m\u001b[0mstrU\u001b[0m\u001b[1;33m)\u001b[0m\u001b[1;33m:\u001b[0m\u001b[1;33m\u001b[0m\u001b[0m\n\u001b[0m\u001b[0;32m      3\u001b[0m           \u001b[1;32mreturn\u001b[0m \u001b[0mdict_users\u001b[0m\u001b[1;33m[\u001b[0m\u001b[0mstrU\u001b[0m\u001b[1;33m]\u001b[0m\u001b[1;33m\u001b[0m\u001b[0m\n\u001b[0;32m      4\u001b[0m       \u001b[1;32melse\u001b[0m\u001b[1;33m:\u001b[0m\u001b[1;33m\u001b[0m\u001b[0m\n\u001b[0;32m      5\u001b[0m           \u001b[1;32mreturn\u001b[0m \u001b[1;34m'Not Found'\u001b[0m\u001b[1;33m\u001b[0m\u001b[0m\n",
      "\u001b[1;31mAttributeError\u001b[0m: 'dict' object has no attribute 'find'"
     ]
    }
   ],
   "source": [
    "def find_person(dict_users, strU):\n",
    "      if dict_users.find(strU):\n",
    "          return dict_users[strU]\n",
    "      else:\n",
    "          return 'Not Found'\n",
    "\n",
    "if __name__ == \"__main__\":\n",
    "     dict_users = {'xiaoyun':88888,'xiaohong':5555555,'xiaoteng':11111,'xiaoyi':12341234,'xiaoyang':1212121}\n",
    "     strU =  input('Please input the name: ')\n",
    "     print(find_person(dict_users,strU))"
   ]
  },
  {
   "cell_type": "code",
   "execution_count": null,
   "metadata": {
    "collapsed": true
   },
   "outputs": [],
   "source": []
  }
 ],
 "metadata": {
  "kernelspec": {
   "display_name": "Python 3",
   "language": "python",
   "name": "python3"
  },
  "language_info": {
   "codemirror_mode": {
    "name": "ipython",
    "version": 3
   },
   "file_extension": ".py",
   "mimetype": "text/x-python",
   "name": "python",
   "nbconvert_exporter": "python",
   "pygments_lexer": "ipython3",
   "version": "3.6.1"
  }
 },
 "nbformat": 4,
 "nbformat_minor": 2
}
